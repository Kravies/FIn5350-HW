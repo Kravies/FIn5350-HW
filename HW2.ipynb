{
 "cells": [
  {
   "cell_type": "markdown",
   "metadata": {},
   "source": [
    "## Default Functions"
   ]
  },
  {
   "cell_type": "code",
   "execution_count": 240,
   "metadata": {},
   "outputs": [],
   "source": [
    "\n",
    "import numpy as np\n",
    "from scipy.stats import binom\n",
    "\n",
    "\n",
    "def callPayoff(spot, strike):\n",
    "    return np.maximum(spot - strike, 0.0)\n",
    "\n",
    "\n",
    "def putPayoff(spot, strike):\n",
    "    return np.maximum(strike - spot, 0.0)\n",
    "\n",
    "def euroBinomPricerRecursive(S, K, r, v, q, T, n, payoff, verbose = True):\n",
    "    nodes = n  + 1\n",
    "    h = T / n\n",
    "    u = np.exp((r - q) * h + v * np.sqrt(h))\n",
    "    d = np.exp((r - q) * h - v * np.sqrt(h))\n",
    "    pu = (np.exp((r - q) * h) - d) / (u - d)\n",
    "    pd = 1.0 - pu\n",
    "    disc = np.exp(-r * h)\n",
    "    \n",
    "    ## Arrays to store the spot prices and option values\n",
    "    Ct = np.zeros((nodes, n+1))\n",
    "    St = np.zeros((nodes, n+1))\n",
    "    Dt = np.zeros((nodes, n+1))\n",
    "    Bt = np.zeros((nodes, n+1))\n",
    "    \n",
    "    for i in range(nodes):\n",
    "        St[i, n] = S * (u**(n-i)) * (d**i)\n",
    "        Ct[i, n] = payoff(St[i, n], K)\n",
    "    \n",
    "\n",
    "    for t in range((n-1), -1, -1):\n",
    "        for j in range(t+1):\n",
    "            St[j, t] = St[j, t+1] / u\n",
    "            Ct[j, t] = disc * ((pu * Ct[j, t+1]) + (pd * Ct[j+1, t+1]))\n",
    "            Dt[j, t] = np.exp(-q * h) * (Ct[j, t+1] - Ct[j+1, t+1]) / (St[j, t] * (u - d))\n",
    "            Bt[j, t] = np.exp(-r * h) * (((u * Ct[j+1, t+1]) - (d * Ct[j, t+1])) / ( u - d))\n",
    "        \n",
    "    if verbose:\n",
    "        print(np.around(St, 3))\n",
    "        print(\"\\n\")\n",
    "        print(np.around(Ct, 3))\n",
    "        print(\"\\n\")\n",
    "        print(np.around(Dt, 3))\n",
    "        print(\"\\n\")\n",
    "        print(np.around(Bt, 3))\n",
    "        print(\"\\n\")\n",
    "                    \n",
    "            \n",
    "    return Ct[0,0]\n",
    "\n",
    "def americanBinomPricerRecursive(S, K, r, v, q, T, n, payoff, verbose = True):\n",
    "    nodes = n  + 1\n",
    "    h = T / n\n",
    "    u = np.exp((r - q) * h + v * np.sqrt(h))\n",
    "    d = np.exp((r - q) * h - v * np.sqrt(h))\n",
    "    pu = (np.exp((r - q) * h) - d) / (u - d)\n",
    "    pd = 1.0 - pu\n",
    "    disc = np.exp(-r * h)\n",
    "    \n",
    "    \n",
    "    Ct = np.empty(nodes)\n",
    "    St = np.empty(nodes)\n",
    "    Dt = np.empty(nodes)\n",
    "    \n",
    "    for i in range(nodes):\n",
    "        St[i] = S * (u ** (n - i)) * (d ** i)\n",
    "        Ct[i] = payoff(St[i], K)\n",
    "    \n",
    "    if verbose:\n",
    "        print(Ct)\n",
    "        \n",
    "    for t in range((n - 1), -1, -1):\n",
    "        for j in range(t+1):\n",
    "            Ct[j] = disc * (pu * Ct[j] + pd * Ct[j+1])\n",
    "            St[j] = St[j] / u\n",
    "            if type == \"put\":\n",
    "                Ct[j] = np.maximum(Ct[j], K - St[j])\n",
    "            else:\n",
    "                Ct[j] = np.maximum(Ct[j], St[j] - K)\n",
    "            print(Ct)\n",
    "            \n",
    "    return Ct[0]\n"
   ]
  },
  {
   "cell_type": "markdown",
   "metadata": {},
   "source": [
    "## Functions Calls\n"
   ]
  },
  {
   "cell_type": "code",
   "execution_count": 241,
   "metadata": {},
   "outputs": [],
   "source": [
    "#callPrc = euroBinomPricerRecursive(S, K, r, v, q, T, n, callPayoff, verbose = True)\n",
    "#print(f\"The European Call Premium: {callPrc : 0.3f}\")\n",
    "\n",
    "#callPrc = americanBinomPricerRecursive(S, K, r, v, q, T, n, callPayoff, verbose = True)\n",
    "#print(f\"The American Call Premium: {callPrc : 0.3f}\")\n",
    "\n",
    "#putPrc = americanBinomPricerRecursive(S, K, r, v, q, T, n, putPayoff, verbose = True)\n",
    "#print(f\"The American Put Premium: {putPrc : 0.3f}\")\n",
    "\n",
    "#putPrc = euroBinomPricerRecursive(S, K, r, v, q, T, n, putPayoff, verbose = True)\n",
    "#print(f\"The European Put Premium: {putPrc : 0.3f}\")\n",
    "\n"
   ]
  },
  {
   "cell_type": "markdown",
   "metadata": {},
   "source": [
    "## Problem 1"
   ]
  },
  {
   "cell_type": "code",
   "execution_count": 242,
   "metadata": {},
   "outputs": [],
   "source": [
    "def euroBinomPricerRecursive(S, K, r, v, q, T, n, payoff, verbose = True):\n",
    "    nodes = n  + 1\n",
    "    h = T / n\n",
    "    u = 1.3\n",
    "    d = .8\n",
    "    pu = (np.exp((r - q) * h) - d) / (u - d)\n",
    "    pd = 1.0 - pu\n",
    "    disc = np.exp(-r * h)\n",
    "    \n",
    "    ## Arrays to store the spot prices and option values\n",
    "    Ct = np.zeros((nodes, n+1))\n",
    "    St = np.zeros((nodes, n+1))\n",
    "    Dt = np.zeros((nodes, n+1))\n",
    "    Bt = np.zeros((nodes, n+1))\n",
    "    \n",
    "    for i in range(nodes):\n",
    "        St[i, n] = S * (u**(n-i)) * (d**i)\n",
    "        Ct[i, n] = payoff(St[i, n], K)\n",
    "    \n",
    "\n",
    "    for t in range((n-1), -1, -1):\n",
    "        for j in range(t+1):\n",
    "            St[j, t] = St[j, t+1] / u\n",
    "            Ct[j, t] = disc * ((pu * Ct[j, t+1]) + (pd * Ct[j+1, t+1]))\n",
    "            Dt[j, t] = np.exp(-q * h) * (Ct[j, t+1] - Ct[j+1, t+1]) / (St[j, t] * (u - d))\n",
    "            Bt[j, t] = np.exp(-r * h) * (((u * Ct[j+1, t+1]) - (d * Ct[j, t+1])) / ( u - d))\n",
    "        \n",
    "    if verbose:\n",
    "        print(\"spot Price Tree\")\n",
    "        print(np.around(St, 3))\n",
    "        print(\"\\n\")\n",
    "        print(\"Premium Tree\")\n",
    "        print(np.around(Ct, 3))\n",
    "        print(\"\\n\")\n",
    "        print(\"Delta Tree\")\n",
    "        print(np.around(Dt, 3))\n",
    "        print(\"\\n\")\n",
    "        print(\"B Tree\")\n",
    "        print(np.around(Bt, 3))\n",
    "        print(\"\\n\")\n",
    "                    \n",
    "            \n",
    "    return Ct[0,0], Dt[0,0], Bt[0,0]\n",
    "\n",
    "\n",
    "S = 100\n",
    "K = 105\n",
    "r = 0.08\n",
    "v = 0.30\n",
    "q = 0.0\n",
    "T = .5\n",
    "n = 1\n",
    "#type = \"call\"\n"
   ]
  },
  {
   "cell_type": "markdown",
   "metadata": {},
   "source": [
    "## Problem 1a"
   ]
  },
  {
   "cell_type": "code",
   "execution_count": 243,
   "metadata": {},
   "outputs": [
    {
     "name": "stdout",
     "output_type": "stream",
     "text": [
      "spot Price Tree\n",
      "[[100. 130.]\n",
      " [  0.  80.]]\n",
      "\n",
      "\n",
      "Premium Tree\n",
      "[[11.568 25.   ]\n",
      " [ 0.     0.   ]]\n",
      "\n",
      "\n",
      "Delta Tree\n",
      "[[0.5 0. ]\n",
      " [0.  0. ]]\n",
      "\n",
      "\n",
      "B Tree\n",
      "[[-38.432   0.   ]\n",
      " [  0.      0.   ]]\n",
      "\n",
      "\n",
      "The European Call Premium:  11.568\n",
      "The European Call Delta:  0.500\n",
      "The European Call B: -38.432\n"
     ]
    }
   ],
   "source": [
    "callPrc, Dt, Bt = euroBinomPricerRecursive(S, K, r, v, q, T, n, callPayoff, verbose = True)\n",
    "print(f\"The European Call Premium: {callPrc : 0.3f}\")\n",
    "print(f\"The European Call Delta: {Dt : 0.3f}\")\n",
    "print(f\"The European Call B: {Bt : 0.3f}\")\n"
   ]
  },
  {
   "cell_type": "markdown",
   "metadata": {},
   "source": [
    "## Problem 1b"
   ]
  },
  {
   "cell_type": "code",
   "execution_count": 244,
   "metadata": {},
   "outputs": [
    {
     "name": "stdout",
     "output_type": "stream",
     "text": [
      "spot Price Tree\n",
      "[[100. 130.]\n",
      " [  0.  80.]]\n",
      "\n",
      "\n",
      "Premium Tree\n",
      "[[12.451  0.   ]\n",
      " [ 0.    25.   ]]\n",
      "\n",
      "\n",
      "Delta Tree\n",
      "[[-0.5  0. ]\n",
      " [ 0.   0. ]]\n",
      "\n",
      "\n",
      "B Tree\n",
      "[[62.451  0.   ]\n",
      " [ 0.     0.   ]]\n",
      "\n",
      "\n",
      "The European Put Premium:  12.451\n",
      "The European Put Delta: -0.500\n",
      "The European Put B:  62.451\n"
     ]
    }
   ],
   "source": [
    "putPrc, Dt, Bt = euroBinomPricerRecursive(S, K, r, v, q, T, n, putPayoff, verbose = True)\n",
    "print(f\"The European Put Premium: {putPrc : 0.3f}\")\n",
    "print(f\"The European Put Delta: {Dt : 0.3f}\")\n",
    "print(f\"The European Put B: {Bt : 0.3f}\")"
   ]
  },
  {
   "cell_type": "markdown",
   "metadata": {},
   "source": [
    "## Problem 2\n"
   ]
  },
  {
   "cell_type": "markdown",
   "metadata": {},
   "source": [
    "## Problem 2a"
   ]
  },
  {
   "cell_type": "code",
   "execution_count": 245,
   "metadata": {},
   "outputs": [
    {
     "name": "stdout",
     "output_type": "stream",
     "text": [
      "spot Price Tree\n",
      "[[100. 130.]\n",
      " [  0.  80.]]\n",
      "\n",
      "\n",
      "Premium Tree\n",
      "[[ 7.471  0.   ]\n",
      " [ 0.    15.   ]]\n",
      "\n",
      "\n",
      "Delta Tree\n",
      "[[-0.3  0. ]\n",
      " [ 0.   0. ]]\n",
      "\n",
      "\n",
      "B Tree\n",
      "[[37.471  0.   ]\n",
      " [ 0.     0.   ]]\n",
      "\n",
      "\n",
      "The European Put Premium:  7.471\n",
      "The European Put Delta: -0.300\n",
      "The European Put B:  37.471\n"
     ]
    }
   ],
   "source": [
    "S = 100\n",
    "K = 95\n",
    "r = 0.08\n",
    "v = 0.30\n",
    "q = 0.0\n",
    "T = .5\n",
    "n = 1\n",
    "#type = \"put\"\n",
    "\n",
    "putPrc, Dt, Bt = euroBinomPricerRecursive(S, K, r, v, q, T, n, putPayoff, verbose = True)\n",
    "print(f\"The European Put Premium: {putPrc : 0.3f}\")\n",
    "print(f\"The European Put Delta: {Dt : 0.3f}\")\n",
    "print(f\"The European Put B: {Bt : 0.3f}\")"
   ]
  },
  {
   "cell_type": "markdown",
   "metadata": {},
   "source": [
    "## Problem  2B & 2C"
   ]
  },
  {
   "cell_type": "code",
   "execution_count": 246,
   "metadata": {},
   "outputs": [
    {
     "name": "stdout",
     "output_type": "stream",
     "text": [
      "spot Price Tree\n",
      "[[100. 130.]\n",
      " [  0.  80.]]\n",
      "\n",
      "\n",
      "Premium Tree\n",
      "[[16.196 35.   ]\n",
      " [ 0.     0.   ]]\n",
      "\n",
      "\n",
      "Delta Tree\n",
      "[[0.7 0. ]\n",
      " [0.  0. ]]\n",
      "\n",
      "\n",
      "B Tree\n",
      "[[-53.804   0.   ]\n",
      " [  0.      0.   ]]\n",
      "\n",
      "\n",
      "The European Call Premium:  16.196\n",
      "The European Call Delta:  0.700\n",
      "The European Call B: -53.804\n"
     ]
    }
   ],
   "source": [
    "callPrc, Dt, Bt = euroBinomPricerRecursive(S, K, r, v, q, T, n, callPayoff, verbose = True)\n",
    "print(f\"The European Call Premium: {callPrc : 0.3f}\")\n",
    "print(f\"The European Call Delta: {Dt : 0.3f}\")\n",
    "print(f\"The European Call B: {Bt : 0.3f}\")"
   ]
  },
  {
   "cell_type": "markdown",
   "metadata": {},
   "source": [
    "## 2b\n"
   ]
  },
  {
   "cell_type": "markdown",
   "metadata": {},
   "source": [
    "Arbitrage = 17 - 16.196 = .804"
   ]
  },
  {
   "cell_type": "markdown",
   "metadata": {},
   "source": [
    "## 2c"
   ]
  },
  {
   "cell_type": "markdown",
   "metadata": {},
   "source": [
    "Arbitrage = 16.196 - 15.50 = .696"
   ]
  },
  {
   "cell_type": "markdown",
   "metadata": {},
   "source": [
    "## Problem 3\n"
   ]
  },
  {
   "cell_type": "code",
   "execution_count": 247,
   "metadata": {},
   "outputs": [
    {
     "name": "stdout",
     "output_type": "stream",
     "text": [
      "spot Price Tree\n",
      "[[100. 130. 169.]\n",
      " [  0.  80. 104.]\n",
      " [  0.   0.  64.]]\n",
      "\n",
      "\n",
      "Premium Tree\n",
      "[[19.994 38.725 74.   ]\n",
      " [ 0.     4.165  9.   ]\n",
      " [ 0.     0.     0.   ]]\n",
      "\n",
      "\n",
      "Delta Tree\n",
      "[[0.691 1.    0.   ]\n",
      " [0.    0.225 0.   ]\n",
      " [0.    0.    0.   ]]\n",
      "\n",
      "\n",
      "B Tree\n",
      "[[-49.127 -91.275   0.   ]\n",
      " [  0.    -13.835   0.   ]\n",
      " [  0.      0.      0.   ]]\n",
      "\n",
      "\n",
      "The Final European Call Premium:  19.994\n",
      "The Final European Call Delta:  0.691\n",
      "The Final European Call B: -49.127\n"
     ]
    }
   ],
   "source": [
    "S = 100\n",
    "K = 95\n",
    "r = 0.08\n",
    "v = 0.30\n",
    "q = 0.0\n",
    "T = 1\n",
    "n = 2\n",
    "#type = \"call\"\n",
    "\n",
    "\n",
    "callPrc, Dt, Bt = euroBinomPricerRecursive(S, K, r, v, q, T, n, callPayoff, verbose = True)\n",
    "print(f\"The Final European Call Premium: {callPrc : 0.3f}\")\n",
    "print(f\"The Final European Call Delta: {Dt : 0.3f}\")\n",
    "print(f\"The Final European Call B: {Bt : 0.3f}\")"
   ]
  },
  {
   "cell_type": "markdown",
   "metadata": {},
   "source": [
    "## Problem 4"
   ]
  },
  {
   "cell_type": "code",
   "execution_count": null,
   "metadata": {},
   "outputs": [],
   "source": []
  },
  {
   "cell_type": "code",
   "execution_count": 248,
   "metadata": {},
   "outputs": [
    {
     "name": "stdout",
     "output_type": "stream",
     "text": [
      "The Final European Call Delta:  0.465\n",
      "The Price of this Call Option was: 80\n",
      "\n",
      "\n",
      "The Final European Call Delta:  0.587\n",
      "The Price of this Call Option was: 90\n",
      "\n",
      "\n",
      "The Final European Call Delta:  0.777\n",
      "The Price of this Call Option was: 110\n",
      "\n",
      "\n",
      "The Final European Call Delta:  0.849\n",
      "The Price of this Call Option was: 120\n",
      "\n",
      "\n",
      "The Final European Call Delta:  0.910\n",
      "The Price of this Call Option was: 130\n",
      "\n",
      "\n"
     ]
    }
   ],
   "source": [
    "callPrc, Dt, Bt = euroBinomPricerRecursive(80, 95, .08, .3, 0, 1, 2, callPayoff, verbose = False)\n",
    "print(f\"The Final European Call Delta: {Dt : 0.3f}\")\n",
    "print(f\"The Price of this Call Option was: 80\")\n",
    "print(\"\\n\")\n",
    "callPrc, Dt, Bt = euroBinomPricerRecursive(90, 95, .08, .3, 0, 1, 2, callPayoff, verbose = False)\n",
    "print(f\"The Final European Call Delta: {Dt : 0.3f}\")\n",
    "print(f\"The Price of this Call Option was: 90\")\n",
    "print(\"\\n\")\n",
    "callPrc, Dt, Bt = euroBinomPricerRecursive(110, 95, .08, .3, 0, 1, 2, callPayoff, verbose = False)\n",
    "print(f\"The Final European Call Delta: {Dt : 0.3f}\")\n",
    "print(f\"The Price of this Call Option was: 110\")\n",
    "print(\"\\n\")\n",
    "callPrc, Dt, Bt = euroBinomPricerRecursive(120, 95, .08, .3, 0, 1, 2, callPayoff, verbose = False)\n",
    "print(f\"The Final European Call Delta: {Dt : 0.3f}\")\n",
    "print(f\"The Price of this Call Option was: 120\")\n",
    "print(\"\\n\")\n",
    "callPrc, Dt, Bt = euroBinomPricerRecursive(130, 95, .08, .3, 0, 1, 2, callPayoff, verbose = False)\n",
    "print(f\"The Final European Call Delta: {Dt : 0.3f}\")\n",
    "print(f\"The Price of this Call Option was: 130\")\n",
    "print(\"\\n\")"
   ]
  },
  {
   "cell_type": "markdown",
   "metadata": {},
   "source": [
    "As the Stock Price increased, Delta increased."
   ]
  },
  {
   "cell_type": "markdown",
   "metadata": {},
   "source": [
    "## Problem 5"
   ]
  },
  {
   "cell_type": "code",
   "execution_count": 249,
   "metadata": {},
   "outputs": [],
   "source": [
    "def americanBinomPricerRecursive(S, K, r, v, q, T, n, payoff, verbose = True):\n",
    "    nodes = n  + 1\n",
    "    h = T / n\n",
    "    u = np.exp((r - q) * h + v * np.sqrt(h))\n",
    "    d = np.exp((r - q) * h - v * np.sqrt(h))\n",
    "    pu = (np.exp((r - q) * h) - d) / (u - d)\n",
    "    pd = 1.0 - pu\n",
    "    disc = np.exp(-r * h)\n",
    "    \n",
    "    \n",
    "    Ct = np.empty(nodes)\n",
    "    St = np.empty(nodes)\n",
    "    Dt = np.empty(nodes)\n",
    "    \n",
    "    for i in range(nodes):\n",
    "        St[i] = S * (u ** (n - i)) * (d ** i)\n",
    "        Ct[i] = payoff(St[i], K)\n",
    "    \n",
    "    if verbose:\n",
    "        print(Ct)\n",
    "        \n",
    "    for t in range((n - 1), -1, -1):\n",
    "        for j in range(t+1):\n",
    "            Ct[j] = disc * (pu * Ct[j] + pd * Ct[j+1])\n",
    "            St[j] = St[j] / u\n",
    "            if type == \"put\":\n",
    "                Ct[j] = np.maximum(Ct[j], K - St[j])\n",
    "            else:\n",
    "                Ct[j] = np.maximum(Ct[j], St[j] - K)\n",
    "            print(Ct)\n",
    "            \n",
    "    return Ct[0]\n",
    "\n",
    "def euroBinomPricerRecursive(S, K, r, v, q, T, n, payoff, verbose = True):\n",
    "    nodes = n  + 1\n",
    "    h = T / n\n",
    "    u = np.exp((r - q) * h + v * np.sqrt(h))\n",
    "    d = np.exp((r - q) * h - v * np.sqrt(h))\n",
    "    pu = (np.exp((r - q) * h) - d) / (u - d)\n",
    "    pd = 1.0 - pu\n",
    "    disc = np.exp(-r * h)\n",
    "    \n",
    "    ## Arrays to store the spot prices and option values\n",
    "    Ct = np.zeros((nodes, n+1))\n",
    "    St = np.zeros((nodes, n+1))\n",
    "\n",
    "    for i in range(nodes):\n",
    "        St[i, n] = S * (u**(n-i)) * (d**i)\n",
    "        Ct[i, n] = payoff(St[i, n], K)\n",
    "    \n",
    "\n",
    "    for t in range((n-1), -1, -1):\n",
    "        for j in range(t+1):\n",
    "            St[j, t] = St[j, t+1] / u\n",
    "            Ct[j, t] = disc * ((pu * Ct[j, t+1]) + (pd * Ct[j+1, t+1]))\n",
    "        \n",
    "    if verbose:\n",
    "        print(np.around(St, 3))\n",
    "        print(\"\\n\")\n",
    "        print(np.around(Ct, 3))\n",
    "        print(\"\\n\") \n",
    "            \n",
    "    return Ct[0,0]\n",
    "\n",
    "S = 100\n",
    "K = 95\n",
    "r = 0.08\n",
    "v = 0.30\n",
    "q = 0.0\n",
    "T = 1\n",
    "n = 3\n",
    "type = \"call\""
   ]
  },
  {
   "cell_type": "markdown",
   "metadata": {},
   "source": [
    "## 5a"
   ]
  },
  {
   "cell_type": "code",
   "execution_count": 250,
   "metadata": {},
   "outputs": [
    {
     "name": "stdout",
     "output_type": "stream",
     "text": [
      "[87.1417861 33.8147424  0.         0.       ]\n",
      "[56.64406241 33.8147424   0.          0.        ]\n",
      "[56.64406241 15.04032855  0.          0.        ]\n",
      "[56.64406241 15.04032855  0.          0.        ]\n",
      "[33.14931753 15.04032855  0.          0.        ]\n",
      "[33.14931753  6.6897296   0.          0.        ]\n",
      "[18.28255221  6.6897296   0.          0.        ]\n",
      "The American Call Premium:  18.283\n",
      "1.1454617381452392 0.8966038495199921\n"
     ]
    }
   ],
   "source": [
    "S = 100\n",
    "K = 95\n",
    "r = 0.08\n",
    "v = 0.30\n",
    "q = 0.0\n",
    "T = 1\n",
    "n = 3\n",
    "\n",
    "type = \"call\"\n",
    "callPrc = americanBinomPricerRecursive(S, K, r, v, q, T, n, callPayoff, verbose = True)\n",
    "print(f\"The American Call Premium: {callPrc : 0.3f}\")\n",
    "\n",
    "print(u,d)\n",
    "\n"
   ]
  },
  {
   "cell_type": "markdown",
   "metadata": {},
   "source": [
    "No Early Exercise"
   ]
  },
  {
   "cell_type": "markdown",
   "metadata": {},
   "source": [
    "## 5b"
   ]
  },
  {
   "cell_type": "code",
   "execution_count": 251,
   "metadata": {},
   "outputs": [
    {
     "name": "stdout",
     "output_type": "stream",
     "text": [
      "[[100.    122.125 149.144 182.142]\n",
      " [  0.     86.369 105.478 128.815]\n",
      " [  0.      0.     74.596  91.101]\n",
      " [  0.      0.      0.     64.428]]\n",
      "\n",
      "\n",
      "[[18.283 33.149 56.644 87.142]\n",
      " [ 0.     6.69  15.04  33.815]\n",
      " [ 0.     0.     0.     0.   ]\n",
      " [ 0.     0.     0.     0.   ]]\n",
      "\n",
      "\n",
      "The European Call Premium:  18.283\n"
     ]
    }
   ],
   "source": [
    " callPrc = euroBinomPricerRecursive(S, K, r, v, q, T, n, callPayoff, verbose = True)\n",
    "print(f\"The European Call Premium: {callPrc : 0.3f}\")\n",
    "S = 100\n",
    "K = 95\n",
    "r = 0.08\n",
    "v = 0.30\n",
    "q = 0.0\n",
    "T = 1\n",
    "n = 3\n",
    "type = \"call\""
   ]
  },
  {
   "cell_type": "markdown",
   "metadata": {},
   "source": [
    "Because there was no dividend, the American Call option does not exercise early. The premium on the American call and European Call are the same"
   ]
  },
  {
   "cell_type": "markdown",
   "metadata": {},
   "source": [
    "## 5c"
   ]
  },
  {
   "cell_type": "code",
   "execution_count": 252,
   "metadata": {},
   "outputs": [
    {
     "name": "stdout",
     "output_type": "stream",
     "text": [
      "[[100.    122.125 149.144 182.142]\n",
      " [  0.     86.369 105.478 128.815]\n",
      " [  0.      0.     74.596  91.101]\n",
      " [  0.      0.      0.     64.428]]\n",
      "\n",
      "\n",
      "[[ 5.979  1.091  0.     0.   ]\n",
      " [ 0.    10.387  2.062  0.   ]\n",
      " [ 0.     0.    17.904  3.899]\n",
      " [ 0.     0.     0.    30.572]]\n",
      "\n",
      "\n",
      "The European Put Premium:  5.979\n",
      "If 12.30394709326959  equals 12.341395155088758 put-call parity holds\n"
     ]
    }
   ],
   "source": [
    "putPrc = euroBinomPricerRecursive(S, K, r, v, q, T, n, putPayoff, verbose = True)\n",
    "print(f\"The European Put Premium: {putPrc : 0.3f}\")\n",
    "Fo = S * np.exp(r * T)\n",
    "pv = (Fo - K) / ((1+ r) ** T)\n",
    "print(\"If\", callPrc - putPrc, \" equals\", pv, \"put-call parity holds\")"
   ]
  },
  {
   "cell_type": "markdown",
   "metadata": {},
   "source": [
    "## 5d"
   ]
  },
  {
   "cell_type": "code",
   "execution_count": 253,
   "metadata": {},
   "outputs": [],
   "source": [
    "S = 100\n",
    "K = 95\n",
    "r = 0.08\n",
    "v = 0.30\n",
    "q = 0.0\n",
    "T = 1\n",
    "n = 3\n",
    "type = \"put\""
   ]
  },
  {
   "cell_type": "code",
   "execution_count": 254,
   "metadata": {},
   "outputs": [
    {
     "name": "stdout",
     "output_type": "stream",
     "text": [
      "[ 0.          0.          3.89933488 30.57157332]\n",
      "[ 0.          0.          3.89933488 30.57157332]\n",
      "[ 0.          2.06235672  3.89933488 30.57157332]\n",
      "[ 0.          2.06235672 20.40351726 30.57157332]\n",
      "[ 1.09077967  2.06235672 20.40351726 30.57157332]\n",
      "[ 1.09077967 11.7087201  20.40351726 30.57157332]\n",
      "[ 6.67790123 11.7087201  20.40351726 30.57157332]\n",
      "The American Put Premium:  6.678\n",
      "\n",
      "\n",
      "[[100.    122.125 149.144 182.142]\n",
      " [  0.     86.369 105.478 128.815]\n",
      " [  0.      0.     74.596  91.101]\n",
      " [  0.      0.      0.     64.428]]\n",
      "\n",
      "\n",
      "[[ 5.979  1.091  0.     0.   ]\n",
      " [ 0.    10.387  2.062  0.   ]\n",
      " [ 0.     0.    17.904  3.899]\n",
      " [ 0.     0.     0.    30.572]]\n",
      "\n",
      "\n",
      "The European Put Premium:  5.979\n"
     ]
    }
   ],
   "source": [
    "putPrc = americanBinomPricerRecursive(S, K, r, v, q, T, n, putPayoff, verbose = True)\n",
    "print(f\"The American Put Premium: {putPrc : 0.3f}\")\n",
    "print(\"\\n\")\n",
    "putPrc = euroBinomPricerRecursive(S, K, r, v, q, T, n, putPayoff, verbose = True)\n",
    "print(f\"The European Put Premium: {putPrc : 0.3f}\")"
   ]
  },
  {
   "cell_type": "markdown",
   "metadata": {},
   "source": [
    "The American put is worth more because it can ecercise earlier to get a higher payoff."
   ]
  },
  {
   "cell_type": "markdown",
   "metadata": {},
   "source": [
    "## Problem 6\n"
   ]
  },
  {
   "cell_type": "code",
   "execution_count": 255,
   "metadata": {},
   "outputs": [],
   "source": [
    "def americanBinomPricerRecursive(S, K, r, v, q, T, n, payoff, verbose = True):\n",
    "    nodes = n  + 1\n",
    "    h = T / n\n",
    "    u = np.exp((r - q) * h + v * np.sqrt(h))\n",
    "    d = np.exp((r - q) * h - v * np.sqrt(h))\n",
    "    pu = (np.exp((r - q) * h) - d) / (u - d)\n",
    "    pd = 1.0 - pu\n",
    "    disc = np.exp(-r * h)\n",
    "    \n",
    "    \n",
    "    Ct = np.empty(nodes)\n",
    "    St = np.empty(nodes)\n",
    "    Dt = np.empty(nodes)\n",
    "    \n",
    "    for i in range(nodes):\n",
    "        St[i] = S * (u ** (n - i)) * (d ** i)\n",
    "        Ct[i] = payoff(St[i], K)\n",
    "    \n",
    "    if verbose:\n",
    "        print(Ct)\n",
    "        \n",
    "    for t in range((n - 1), -1, -1):\n",
    "        for j in range(t+1):\n",
    "            Ct[j] = disc * (pu * Ct[j] + pd * Ct[j+1])\n",
    "            St[j] = St[j] / u\n",
    "            if type == \"put\":\n",
    "                Ct[j] = np.maximum(Ct[j], K - St[j])\n",
    "            else:\n",
    "                Ct[j] = np.maximum(Ct[j], St[j] - K)\n",
    "            print(Ct)\n",
    "            \n",
    "    return Ct[0]\n",
    "\n",
    "def euroBinomPricerRecursive(S, K, r, v, q, T, n, payoff, verbose = True):\n",
    "    nodes = n  + 1\n",
    "    h = T / n\n",
    "    u = np.exp((r - q) * h + v * np.sqrt(h))\n",
    "    d = np.exp((r - q) * h - v * np.sqrt(h))\n",
    "    pu = (np.exp((r - q) * h) - d) / (u - d)\n",
    "    pd = 1.0 - pu\n",
    "    disc = np.exp(-r * h)\n",
    "    \n",
    "    ## Arrays to store the spot prices and option values\n",
    "    Ct = np.zeros((nodes, n+1))\n",
    "    St = np.zeros((nodes, n+1))\n",
    "\n",
    "    for i in range(nodes):\n",
    "        St[i, n] = S * (u**(n-i)) * (d**i)\n",
    "        Ct[i, n] = payoff(St[i, n], K)\n",
    "    \n",
    "\n",
    "    for t in range((n-1), -1, -1):\n",
    "        for j in range(t+1):\n",
    "            St[j, t] = St[j, t+1] / u\n",
    "            Ct[j, t] = disc * ((pu * Ct[j, t+1]) + (pd * Ct[j+1, t+1]))\n",
    "        \n",
    "    if verbose:\n",
    "        print(np.around(St, 3))\n",
    "        print(\"\\n\")\n",
    "        print(np.around(Ct, 3))\n",
    "        print(\"\\n\") \n",
    "            \n",
    "    return Ct[0,0]\n"
   ]
  },
  {
   "cell_type": "markdown",
   "metadata": {},
   "source": [
    "## 6a\n"
   ]
  },
  {
   "cell_type": "code",
   "execution_count": 256,
   "metadata": {},
   "outputs": [
    {
     "name": "stdout",
     "output_type": "stream",
     "text": [
      "[[40.    45.818 52.483 60.118]\n",
      " [ 0.    35.864 41.081 47.057]\n",
      " [ 0.     0.    32.156 36.833]\n",
      " [ 0.     0.     0.    28.831]]\n",
      "\n",
      "\n",
      "[[ 2.809  0.868  0.     0.   ]\n",
      " [ 0.     4.597  1.658  0.   ]\n",
      " [ 0.     0.     7.314  3.167]\n",
      " [ 0.     0.     0.    11.169]]\n",
      "\n",
      "\n",
      "U is: 1.1454617381452392 D is: 0.8966038495199921\n"
     ]
    }
   ],
   "source": [
    "S = 40\n",
    "K = 40\n",
    "r = 0.08\n",
    "v = 0.30\n",
    "q = 0.0\n",
    "T = .5\n",
    "n = 3\n",
    "#type = \"put\"\n",
    "\n",
    "putPrc = euroBinomPricerRecursive(S, K, r, v, q, T, n, putPayoff, verbose = True)\n",
    "print(\"U is:\",u,\"D is:\",d)"
   ]
  },
  {
   "cell_type": "markdown",
   "metadata": {},
   "source": [
    "## 6b"
   ]
  },
  {
   "cell_type": "code",
   "execution_count": 257,
   "metadata": {},
   "outputs": [
    {
     "name": "stdout",
     "output_type": "stream",
     "text": [
      "The European Call Premium:  4.377\n",
      "\n",
      "\n",
      "[13.01309727  7.05673217  0.          0.        ]\n",
      "[13.01309727  3.26869392  0.          0.        ]\n",
      "[13.01309727  3.26869392  0.          0.        ]\n",
      "[7.73902974 3.26869392 0.         0.        ]\n",
      "[7.73902974 1.51406624 0.         0.        ]\n",
      "[4.37742951 1.51406624 0.         0.        ]\n",
      "The American Call Premium:  4.377\n",
      "\n",
      "\n",
      "[ 0.          0.          3.16660277 11.16886174]\n",
      "[ 0.          1.65788424  3.16660277 11.16886174]\n",
      "[ 0.          1.65788424  7.84406148 11.16886174]\n",
      "[ 0.86799019  1.65788424  7.84406148 11.16886174]\n",
      "[ 0.86799019  4.8747172   7.84406148 11.16886174]\n",
      "[ 2.95422756  4.8747172   7.84406148 11.16886174]\n",
      "The American Put Premium:  2.954\n",
      "\n",
      "\n",
      "The European Put Premium:  2.809\n"
     ]
    }
   ],
   "source": [
    "callPrc = euroBinomPricerRecursive(S, K, r, v, q, T, n, callPayoff, verbose = False)\n",
    "print(f\"The European Call Premium: {callPrc : 0.3f}\")\n",
    "print(\"\\n\")\n",
    "type = \"call\"\n",
    "callPrc = americanBinomPricerRecursive(S, K, r, v, q, T, n, callPayoff, verbose = False)\n",
    "print(f\"The American Call Premium: {callPrc : 0.3f}\")\n",
    "print(\"\\n\")\n",
    "type = \"put\"\n",
    "putPrc = americanBinomPricerRecursive(S, K, r, v, q, T, n, putPayoff, verbose = False)\n",
    "print(f\"The American Put Premium: {putPrc : 0.3f}\")\n",
    "print(\"\\n\")\n",
    "putPrc = euroBinomPricerRecursive(S, K, r, v, q, T, n, putPayoff, verbose = False)\n",
    "print(f\"The European Put Premium: {putPrc : 0.3f}\")\n",
    "\n"
   ]
  },
  {
   "cell_type": "code",
   "execution_count": null,
   "metadata": {},
   "outputs": [],
   "source": []
  },
  {
   "cell_type": "code",
   "execution_count": null,
   "metadata": {},
   "outputs": [],
   "source": []
  },
  {
   "cell_type": "code",
   "execution_count": null,
   "metadata": {},
   "outputs": [],
   "source": []
  }
 ],
 "metadata": {
  "kernelspec": {
   "display_name": "Python 3",
   "language": "python",
   "name": "python3"
  },
  "language_info": {
   "codemirror_mode": {
    "name": "ipython",
    "version": 3
   },
   "file_extension": ".py",
   "mimetype": "text/x-python",
   "name": "python",
   "nbconvert_exporter": "python",
   "pygments_lexer": "ipython3",
   "version": "3.6.5"
  }
 },
 "nbformat": 4,
 "nbformat_minor": 2
}
