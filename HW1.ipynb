{
 "cells": [
  {
   "cell_type": "markdown",
   "metadata": {},
   "source": [
    "## Problem 1"
   ]
  },
  {
   "cell_type": "code",
   "execution_count": null,
   "metadata": {},
   "outputs": [],
   "source": [
    "def nuggetcombo(candidate, smallNug=6, medNug=9, largeNug=20):\n",
    "    for x in range(candidate // smallNug +1):\n",
    "        for y in range(candidate // medNug +1):\n",
    "            for z in range(candidate // largeNug +1):\n",
    "                if candidate == x*smallNug + y*medNug + z*largeNug:\n",
    "                    return True\n",
    "    return False\n",
    "\n",
    "def main():\n",
    "    sizes = {'S' : 6,'M' : 9,'L' : 20}\n",
    "    smallNug = 6\n",
    "    count = 0\n",
    "    largest = 0\n",
    "    candidate = smallNug\n",
    "    while count < smallNug:\n",
    "        if (nuggetcombo(candidate)):\n",
    "            count += 1\n",
    "        else:\n",
    "            largest = candidate\n",
    "            count = 0\n",
    "        candidate += 1\n",
    "    print(\"The largest size that you cannot get is: {0}\".format(largest))\n",
    "main()"
   ]
  },
  {
   "cell_type": "markdown",
   "metadata": {},
   "source": [
    "## Problem 2"
   ]
  },
  {
   "cell_type": "code",
   "execution_count": null,
   "metadata": {},
   "outputs": [],
   "source": [
    "num = eval(input(\"What is your number?\"))\n",
    "\n",
    "low = 1\n",
    "high = 100\n",
    "tries = 0\n",
    "mid = (high + low) // 2\n",
    "while high >= low:\n",
    "    tries +=1\n",
    "\n",
    "    print(\"My Current Guess is\", mid,\".\")\n",
    "    if num == mid:\n",
    "        break\n",
    "    print(\"Option Menu:\")\n",
    "    print(\"  1 - Higher\")\n",
    "    print(\"  2 - lower\")\n",
    "    confirmation = eval(input(\"1 or 2: \"))\n",
    "    if confirmation == 2:\n",
    "        high = mid - 1\n",
    "        mid = (high + low) // 2\n",
    "    elif confirmation == 1:\n",
    "        low = mid + 1\n",
    "        mid = (high + low) // 2\n",
    "print(\"I guessed it in\",tries,\"tries!\")\n",
    "    \n",
    "\n",
    "\n"
   ]
  }
 ],
 "metadata": {
  "kernelspec": {
   "display_name": "Python 3",
   "language": "python",
   "name": "python3"
  },
  "language_info": {
   "codemirror_mode": {
    "name": "ipython",
    "version": 3
   },
   "file_extension": ".py",
   "mimetype": "text/x-python",
   "name": "python",
   "nbconvert_exporter": "python",
   "pygments_lexer": "ipython3",
   "version": "3.6.5"
  }
 },
 "nbformat": 4,
 "nbformat_minor": 2
}
